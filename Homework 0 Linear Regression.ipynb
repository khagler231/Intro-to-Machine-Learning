{
 "cells": [
  {
   "cell_type": "code",
   "execution_count": 208,
   "id": "bdf59e9c-a613-480a-9b50-5aac54a8183d",
   "metadata": {
    "tags": []
   },
   "outputs": [],
   "source": [
    "import numpy as np \n",
    "import matplotlib.pyplot as plt \n",
    "import pandas as pd "
   ]
  },
  {
   "cell_type": "code",
   "execution_count": 209,
   "id": "6013f68a-9960-4282-b4ef-91594341e651",
   "metadata": {
    "tags": []
   },
   "outputs": [
    {
     "data": {
      "text/html": [
       "<div>\n",
       "<style scoped>\n",
       "    .dataframe tbody tr th:only-of-type {\n",
       "        vertical-align: middle;\n",
       "    }\n",
       "\n",
       "    .dataframe tbody tr th {\n",
       "        vertical-align: top;\n",
       "    }\n",
       "\n",
       "    .dataframe thead th {\n",
       "        text-align: right;\n",
       "    }\n",
       "</style>\n",
       "<table border=\"1\" class=\"dataframe\">\n",
       "  <thead>\n",
       "    <tr style=\"text-align: right;\">\n",
       "      <th></th>\n",
       "      <th>X1</th>\n",
       "      <th>X2</th>\n",
       "      <th>X3</th>\n",
       "      <th>Y</th>\n",
       "    </tr>\n",
       "  </thead>\n",
       "  <tbody>\n",
       "    <tr>\n",
       "      <th>0</th>\n",
       "      <td>0.000000</td>\n",
       "      <td>3.440000</td>\n",
       "      <td>0.440000</td>\n",
       "      <td>4.387545</td>\n",
       "    </tr>\n",
       "    <tr>\n",
       "      <th>1</th>\n",
       "      <td>0.040404</td>\n",
       "      <td>0.134949</td>\n",
       "      <td>0.888485</td>\n",
       "      <td>2.679650</td>\n",
       "    </tr>\n",
       "    <tr>\n",
       "      <th>2</th>\n",
       "      <td>0.080808</td>\n",
       "      <td>0.829899</td>\n",
       "      <td>1.336970</td>\n",
       "      <td>2.968490</td>\n",
       "    </tr>\n",
       "    <tr>\n",
       "      <th>3</th>\n",
       "      <td>0.121212</td>\n",
       "      <td>1.524848</td>\n",
       "      <td>1.785455</td>\n",
       "      <td>3.254065</td>\n",
       "    </tr>\n",
       "    <tr>\n",
       "      <th>4</th>\n",
       "      <td>0.161616</td>\n",
       "      <td>2.219798</td>\n",
       "      <td>2.233939</td>\n",
       "      <td>3.536375</td>\n",
       "    </tr>\n",
       "  </tbody>\n",
       "</table>\n",
       "</div>"
      ],
      "text/plain": [
       "         X1        X2        X3         Y\n",
       "0  0.000000  3.440000  0.440000  4.387545\n",
       "1  0.040404  0.134949  0.888485  2.679650\n",
       "2  0.080808  0.829899  1.336970  2.968490\n",
       "3  0.121212  1.524848  1.785455  3.254065\n",
       "4  0.161616  2.219798  2.233939  3.536375"
      ]
     },
     "execution_count": 209,
     "metadata": {},
     "output_type": "execute_result"
    }
   ],
   "source": [
    "df = pd.read_csv(\"D3.csv\")\n",
    "df.head()"
   ]
  },
  {
   "cell_type": "code",
   "execution_count": 210,
   "id": "f51d8804-7029-409a-b948-307c49b68b66",
   "metadata": {},
   "outputs": [],
   "source": [
    "# getting input values from D3.\n",
    "X_1 = df.values[:, 0]\n",
    "X_2 = df.values[:, 1]\n",
    "X_3 = df.values[:, 2]\n",
    "Y = df.values[:, 3]\n",
    "m = len (Y)\n",
    "x1 = X_1.reshape(m, 1)\n",
    "x2 = X_2.reshape(m, 1)\n",
    "x3 = X_3.reshape(m, 1)"
   ]
  },
  {
   "cell_type": "code",
   "execution_count": 211,
   "id": "4b979019-428f-4a50-8bc3-13d50f859a13",
   "metadata": {
    "tags": []
   },
   "outputs": [
    {
     "data": {
      "text/plain": [
       "array([0., 0.])"
      ]
     },
     "execution_count": 211,
     "metadata": {},
     "output_type": "execute_result"
    }
   ],
   "source": [
    "X0 = np.ones((m, 1))\n",
    "thetaX1 = np.zeros(2)\n",
    "X1 = np.hstack((X0, x1)) \n",
    "thetaX1"
   ]
  },
  {
   "cell_type": "code",
   "execution_count": 212,
   "id": "5f35ef7e-b794-4b93-b8cf-a66ac21583c0",
   "metadata": {},
   "outputs": [],
   "source": [
    "def compute_cost(x, y, theta): \n",
    "  predictions = x.dot(theta) \n",
    "  errors = np.subtract(predictions, y) \n",
    "  J = 1 / (2 * m) * np.sum(np.square(errors)) \n",
    "  return J "
   ]
  },
  {
   "cell_type": "code",
   "execution_count": 213,
   "id": "ecebb386-e9dd-45a6-b4d1-9b95d030e386",
   "metadata": {},
   "outputs": [
    {
     "name": "stdout",
     "output_type": "stream",
     "text": [
      "The cost for given values of thetaX1 = 5.524438459196242\n"
     ]
    }
   ],
   "source": [
    "costX1 = compute_cost(X1, Y, thetaX1) \n",
    "print('The cost for given values of thetaX1 =', costX1)"
   ]
  },
  {
   "cell_type": "code",
   "execution_count": 214,
   "id": "5f177cf5-4c4b-4c7a-8c39-5c9edd292be0",
   "metadata": {},
   "outputs": [],
   "source": [
    "# Setting a value for learning rate and iterations for X1\n",
    "alphaX1 = 0.05\n",
    "iterationsX1 = 2000"
   ]
  },
  {
   "cell_type": "code",
   "execution_count": 215,
   "id": "be2628c2-22f1-4e56-8016-6609dd987b04",
   "metadata": {},
   "outputs": [],
   "source": [
    "def gradientDescent (x, y, theta, alpha, iterations):\n",
    "    previousCost = np.zeros(iterations)\n",
    "    for i in range(iterations):\n",
    "        predictions = x.dot(theta)\n",
    "        error = np.subtract(predictions, y)\n",
    "        delta = (alpha / m) * x.transpose().dot(error)\n",
    "        theta = theta - delta\n",
    "        previousCost[i] = compute_cost (x, y, theta)\n",
    "    return theta, previousCost"
   ]
  },
  {
   "cell_type": "code",
   "execution_count": 216,
   "id": "4c96d7d3-af19-4fdd-bfc1-7de3067cd6eb",
   "metadata": {},
   "outputs": [
    {
     "name": "stdout",
     "output_type": "stream",
     "text": [
      "Final X1 theta value = [ 5.92794892 -2.03833663]\n",
      "Previoius costs = [5.32852962 5.18676104 5.07204859 4.97135951 4.87841102]\n"
     ]
    }
   ],
   "source": [
    "thetaX1, previousCostX1 = gradientDescent(X1, Y, thetaX1, alphaX1, iterationsX1) \n",
    "print(\"Final X1 theta value =\", thetaX1) \n",
    "print(\"Previoius costs =\", previousCostX1[:5]) "
   ]
  },
  {
   "cell_type": "code",
   "execution_count": 217,
   "id": "8e7d85a2-7a86-4ee0-b73f-999c6a4b4eee",
   "metadata": {},
   "outputs": [
    {
     "data": {
      "text/plain": [
       "<matplotlib.legend.Legend at 0x1c2af787160>"
      ]
     },
     "execution_count": 217,
     "metadata": {},
     "output_type": "execute_result"
    },
    {
     "data": {
      "image/png": "[encoded data removed]",
      "text/plain": [
       "<Figure size 432x288 with 1 Axes>"
      ]
     },
     "metadata": {
      "needs_background": "light"
     },
     "output_type": "display_data"
    }
   ],
   "source": [
    "#plotting regression for X1\n",
    "plt.scatter(X1[:,1], Y, color='red', marker= '+', label= 'Training Data')\n",
    "plt.plot(X1[:,1],X1.dot(thetaX1), color='green', label='Linear Regression') \n",
    "\n",
    "plt.grid() \n",
    "plt.xlabel('X1 values') \n",
    "plt.ylabel('Y-value') \n",
    "plt.title('Linear Regression for X1') \n",
    "plt.legend() \n"
   ]
  },
  {
   "cell_type": "code",
   "execution_count": 218,
   "id": "3b34d657-fde4-4cdd-80ab-984ef6dcc6e4",
   "metadata": {},
   "outputs": [
    {
     "data": {
      "text/plain": [
       "Text(0.5, 1.0, 'Convergence of gradient descent for X1')"
      ]
     },
     "execution_count": 218,
     "metadata": {},
     "output_type": "execute_result"
    },
    {
     "data": {
      "image/png": "[encoded data removed]",
      "text/plain": [
       "<Figure size 432x288 with 1 Axes>"
      ]
     },
     "metadata": {
      "needs_background": "light"
     },
     "output_type": "display_data"
    }
   ],
   "source": [
    "#Plotting gradient descent for X1\n",
    "plt.plot(range(1, iterationsX1 + 1),previousCostX1, color='black') \n",
    "plt.grid() \n",
    "plt.xlabel('Number of iterations for X1')\n",
    "plt.ylabel('Cost (J)') \n",
    "plt.title('Convergence of gradient descent for X1') "
   ]
  },
  {
   "cell_type": "code",
   "execution_count": 219,
   "id": "ec8210ae-e9ba-43e6-beb7-c060f4e15bae",
   "metadata": {},
   "outputs": [],
   "source": [
    "#Linear Regreaaion for X2\n",
    "thetaX2 = np.zeros(2)\n",
    "X2 = np.hstack((X0, x2)) "
   ]
  },
  {
   "cell_type": "code",
   "execution_count": 220,
   "id": "69523698-5286-4570-adbe-829e7887ccd7",
   "metadata": {},
   "outputs": [
    {
     "name": "stdout",
     "output_type": "stream",
     "text": [
      "The cost for given values of thetaX2 = 5.524438459196242\n"
     ]
    }
   ],
   "source": [
    "costX2 = compute_cost(X2, Y, thetaX2) \n",
    "print('The cost for given values of thetaX2 =', costX2)"
   ]
  },
  {
   "cell_type": "code",
   "execution_count": 221,
   "id": "ba92ed99-2c1d-4107-b085-fe477c4a68a7",
   "metadata": {},
   "outputs": [],
   "source": [
    "# Setting a value for learning rate and iterations for X2\n",
    "alphaX2 = 0.01\n",
    "iterationsX2 = 1000"
   ]
  },
  {
   "cell_type": "code",
   "execution_count": 222,
   "id": "d060690d-667c-48df-8042-7deaa51b49fa",
   "metadata": {},
   "outputs": [
    {
     "name": "stdout",
     "output_type": "stream",
     "text": [
      "Final X2 theta value = [0.68701995 0.57669462]\n",
      "Previoius costs = [5.29831663 5.09909109 4.92356115 4.76890697 4.63264432]\n"
     ]
    }
   ],
   "source": [
    "thetaX2, previousCostX2 = gradientDescent(X2, Y, thetaX2, alphaX2, iterationsX2) \n",
    "print(\"Final X2 theta value =\", thetaX2) \n",
    "print(\"Previoius costs =\", previousCostX2[:5]) "
   ]
  },
  {
   "cell_type": "code",
   "execution_count": 223,
   "id": "0cf3c724-bfb8-4e0c-bfbd-c155749204e9",
   "metadata": {},
   "outputs": [
    {
     "data": {
      "text/plain": [
       "[]"
      ]
     },
     "execution_count": 223,
     "metadata": {},
     "output_type": "execute_result"
    },
    {
     "data": {
      "image/png": "[encoded data removed]",
      "text/plain": [
       "<Figure size 432x288 with 1 Axes>"
      ]
     },
     "metadata": {
      "needs_background": "light"
     },
     "output_type": "display_data"
    }
   ],
   "source": [
    "#plotting regression for X2\n",
    "plt.scatter(X2[:,1], Y, color='red', marker= '+', label= 'Training Data')\n",
    "plt.plot(X2[:,1],X2.dot(thetaX2), color='green', label='Linear Regression') \n",
    "\n",
    "plt.grid() \n",
    "plt.xlabel('X1 values') \n",
    "plt.ylabel('Y-value') \n",
    "plt.title('Linear Regression for X1') \n",
    "plt.legend() \n",
    "plt.plot()"
   ]
  },
  {
   "cell_type": "code",
   "execution_count": 224,
   "id": "27334ff3-5661-4182-bed3-b322ec6a8f7f",
   "metadata": {},
   "outputs": [
    {
     "data": {
      "text/plain": [
       "Text(0.5, 1.0, 'Convergence of gradient descent for X1')"
      ]
     },
     "execution_count": 224,
     "metadata": {},
     "output_type": "execute_result"
    },
    {
     "data": {
      "image/png": "[encoded data removed]",
      "text/plain": [
       "<Figure size 432x288 with 1 Axes>"
      ]
     },
     "metadata": {
      "needs_background": "light"
     },
     "output_type": "display_data"
    }
   ],
   "source": [
    "#Plotting gradient descent for X2\n",
    "plt.plot(range(1, iterationsX2 + 1),previousCostX2, color='black') \n",
    "plt.grid() \n",
    "plt.xlabel('Number of iterations for X2')\n",
    "plt.ylabel('Cost (J)') \n",
    "plt.title('Convergence of gradient descent for X1') \n"
   ]
  },
  {
   "cell_type": "code",
   "execution_count": 225,
   "id": "7063ad26-088b-4b6a-b734-9ccd8e01de4c",
   "metadata": {},
   "outputs": [],
   "source": [
    "thetaX3 = np.zeros(2)\n",
    "X3= np.hstack((X0, x3)) "
   ]
  },
  {
   "cell_type": "code",
   "execution_count": 226,
   "id": "d221077c-1822-4d03-8930-2febd9378e54",
   "metadata": {},
   "outputs": [
    {
     "name": "stdout",
     "output_type": "stream",
     "text": [
      "The cost for given values of thetaX3 = 5.524438459196242\n"
     ]
    }
   ],
   "source": [
    "costX3 = compute_cost(X3, Y, thetaX3) \n",
    "print('The cost for given values of thetaX3 =', costX3)"
   ]
  },
  {
   "cell_type": "code",
   "execution_count": 227,
   "id": "5c125ac4-82fc-4784-94db-c31196c2188f",
   "metadata": {},
   "outputs": [],
   "source": [
    "alphaX3 = 0.012\n",
    "iterationsX3 = 1500"
   ]
  },
  {
   "cell_type": "code",
   "execution_count": 228,
   "id": "5b7039d9-48a0-4e83-a3d6-e095eb2aae47",
   "metadata": {
    "tags": []
   },
   "outputs": [
    {
     "name": "stdout",
     "output_type": "stream",
     "text": [
      "Final X3 theta value = [ 2.82517295 -0.50219161]\n",
      "Previoius costs = [5.38516842 5.26443724 5.15969321 5.06873632 4.98966976 4.92085816\n",
      " 4.86089151 4.80855414 4.76279794 4.7227192 ]\n"
     ]
    }
   ],
   "source": [
    "thetaX3, previousCostX3 = gradientDescent(X3, Y, thetaX3, alphaX3, iterationsX3) \n",
    "print(\"Final X3 theta value =\", thetaX3) \n",
    "print(\"Previoius costs =\", previousCostX3[:10]) "
   ]
  },
  {
   "cell_type": "code",
   "execution_count": 229,
   "id": "e89a2e24-cfd9-48bb-8cba-f0b4e8e2cfc6",
   "metadata": {},
   "outputs": [
    {
     "data": {
      "text/plain": [
       "[]"
      ]
     },
     "execution_count": 229,
     "metadata": {},
     "output_type": "execute_result"
    },
    {
     "data": {
      "image/png": "[encoded data removed]",
      "text/plain": [
       "<Figure size 432x288 with 1 Axes>"
      ]
     },
     "metadata": {
      "needs_background": "light"
     },
     "output_type": "display_data"
    }
   ],
   "source": [
    "#plotting regression for X3\n",
    "plt.scatter(X3[:,1], Y, color='red', marker= '+', label= 'Training Data')\n",
    "plt.plot(X3[:,1],X3.dot(thetaX3), color='green', label='Linear Regression') \n",
    "\n",
    "plt.grid() \n",
    "plt.xlabel('X3 values') \n",
    "plt.ylabel('Y-value') \n",
    "plt.title('Linear Regression for X3') \n",
    "plt.legend() \n",
    "plt.plot()"
   ]
  },
  {
   "cell_type": "code",
   "execution_count": 230,
   "id": "477b8969-b630-4abc-8b7b-ae8967a77f9b",
   "metadata": {},
   "outputs": [
    {
     "data": {
      "text/plain": [
       "Text(0.5, 1.0, 'Convergence of gradient descent for X3')"
      ]
     },
     "execution_count": 230,
     "metadata": {},
     "output_type": "execute_result"
    },
    {
     "data": {
      "image/png": "[encoded data removed]",
      "text/plain": [
       "<Figure size 432x288 with 1 Axes>"
      ]
     },
     "metadata": {
      "needs_background": "light"
     },
     "output_type": "display_data"
    }
   ],
   "source": [
    "#Plotting gradient descent for X3\n",
    "plt.plot(range(1, iterationsX3 + 1),previousCostX3, color='black') \n",
    "plt.grid() \n",
    "plt.xlabel('Number of iterations for X3')\n",
    "plt.ylabel('Cost (J)') \n",
    "plt.title('Convergence of gradient descent for X3') "
   ]
  },
  {
   "cell_type": "code",
   "execution_count": 231,
   "id": "fe08e75d-6273-4058-8f17-d063526db326",
   "metadata": {},
   "outputs": [],
   "source": [
    "# Second Part:"
   ]
  },
  {
   "cell_type": "code",
   "execution_count": 232,
   "id": "1a8dc75e-870d-4986-b2cc-ebb21ee09886",
   "metadata": {},
   "outputs": [],
   "source": [
    "XTest = np.array([[1, 1, 1, 1],[1, 2, 0, 4],[1, 3, 2, 1]])\n",
    "X = np.hstack((X0, x1, x2, x3))\n"
   ]
  },
  {
   "cell_type": "code",
   "execution_count": 233,
   "id": "a5b0b494-c1f6-42fb-967d-52390bcefd5b",
   "metadata": {},
   "outputs": [
    {
     "name": "stdout",
     "output_type": "stream",
     "text": [
      "Final X3 theta value = [ 5.3141656  -2.00371905  0.5325636  -0.26560163]\n",
      "Previoius costs = [4.12568278 3.72727141 3.40422893 3.13926162 2.9212261  2.74115234\n",
      " 2.59180798 2.46735905 2.3630974  2.27522161]\n"
     ]
    }
   ],
   "source": [
    "alphaX = 0.075\n",
    "iterationsX = 2000\n",
    "thetaX = np.zeros(4)\n",
    "thetaX, previousCostX = gradientDescent(X, Y, thetaX, alphaX, iterationsX)\n",
    "print(\"Final X3 theta value =\", thetaX) \n",
    "print(\"Previoius costs =\", previousCostX[:10]) "
   ]
  },
  {
   "cell_type": "code",
   "execution_count": 234,
   "id": "704128b3-772b-409e-bcf2-77ac6ce00847",
   "metadata": {},
   "outputs": [
    {
     "data": {
      "text/plain": [
       "Text(0.5, 1.0, 'Convergence of gradient descent for all X values')"
      ]
     },
     "execution_count": 234,
     "metadata": {},
     "output_type": "execute_result"
    },
    {
     "data": {
      "image/png": "[encoded data removed]",
      "text/plain": [
       "<Figure size 432x288 with 1 Axes>"
      ]
     },
     "metadata": {
      "needs_background": "light"
     },
     "output_type": "display_data"
    }
   ],
   "source": [
    "plt.plot(range(1, iterationsX + 1),previousCostX, color='black') \n",
    "plt.grid() \n",
    "plt.xlabel('Number of iterations for all X values')\n",
    "plt.ylabel('Cost (J)') \n",
    "plt.title('Convergence of gradient descent for all X values')  "
   ]
  },
  {
   "cell_type": "code",
   "execution_count": 235,
   "id": "8a5fec8e-b5c5-4c4a-a5eb-005edac42d36",
   "metadata": {},
   "outputs": [
    {
     "name": "stdout",
     "output_type": "stream",
     "text": [
      "Prediction for [1,1,1]: 3.577408513266874\n",
      "Prediction for [2,0,4]: 0.2443209663620305\n",
      "Prediction for [3,2,1]: 0.1025340168215092\n"
     ]
    }
   ],
   "source": [
    "print('Prediction for [1,1,1]:', XTest.dot(thetaX)[0])\n",
    "print('Prediction for [2,0,4]:', XTest.dot(thetaX)[1])\n",
    "print('Prediction for [3,2,1]:', XTest.dot(thetaX)[2])"
   ]
  },
  {
   "cell_type": "code",
   "execution_count": null,
   "id": "e1e79cc1-f091-4120-9a79-6f9ce471fac5",
   "metadata": {},
   "outputs": [],
   "source": []
  }
 ],
 "metadata": {
  "kernelspec": {
   "display_name": "Python 3 (ipykernel)",
   "language": "python",
   "name": "python3"
  },
  "language_info": {
   "codemirror_mode": {
    "name": "ipython",
    "version": 3
   },
   "file_extension": ".py",
   "mimetype": "text/x-python",
   "name": "python",
   "nbconvert_exporter": "python",
   "pygments_lexer": "ipython3",
   "version": "3.9.12"
  }
 },
 "nbformat": 4,
 "nbformat_minor": 5
}
