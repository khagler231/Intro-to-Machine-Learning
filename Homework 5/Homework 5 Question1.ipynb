{
 "cells": [
  {
   "cell_type": "code",
   "execution_count": 1,
   "id": "b9424245-77ed-42ef-b25d-eb9d4f76c828",
   "metadata": {},
   "outputs": [],
   "source": [
    "import numpy as np \n",
    "import matplotlib.pyplot as plt \n",
    "import pandas as pd \n",
    "import torch\n",
    "import torch.optim as optim\n",
    "import torch.nn as nn\n",
    "import warnings\n",
    "warnings.filterwarnings('ignore') \n",
    "%matplotlib inline"
   ]
  },
  {
   "cell_type": "markdown",
   "id": "b26eb14b-09a0-4d4a-96cf-db92ea099233",
   "metadata": {
    "tags": []
   },
   "source": [
    "# Homework 5 Problem 1: Non-linear Temperature Prediction"
   ]
  },
  {
   "cell_type": "code",
   "execution_count": 2,
   "id": "5f1cf6a8-78ec-4744-8d9f-814f6ab9db5c",
   "metadata": {
    "tags": []
   },
   "outputs": [
    {
     "name": "stdout",
     "output_type": "stream",
     "text": [
      "tensor([ 0.5000, 14.0000, 15.0000, 28.0000, 11.0000,  8.0000,  3.0000, -4.0000,\n",
      "         6.0000, 13.0000, 21.0000])\n",
      "\n",
      "tensor([35.7000, 55.9000, 58.2000, 81.9000, 56.3000, 48.9000, 33.9000, 21.8000,\n",
      "        48.4000, 60.4000, 68.4000])\n"
     ]
    }
   ],
   "source": [
    "t_c = [0.5, 14.0, 15.0, 28.0, 11.0, 8.0, 3.0, -4.0, 6.0, 13.0, 21.0]\n",
    "t_u = [35.7, 55.9, 58.2, 81.9, 56.3, 48.9, 33.9, 21.8, 48.4, 60.4, 68.4]\n",
    "t_c = torch.tensor(t_c)\n",
    "t_u = torch.tensor(t_u)\n",
    "t_un = 0.1 * t_u\n",
    "print(t_c)\n",
    "print()\n",
    "print(t_u)"
   ]
  },
  {
   "cell_type": "code",
   "execution_count": 3,
   "id": "9b2374e1-b399-46ec-b7a4-634e70afaa63",
   "metadata": {
    "tags": []
   },
   "outputs": [],
   "source": [
    "def model(t_u, w2, w1, b):\n",
    "    return w2 * t_u**2 + w1 * t_u + b"
   ]
  },
  {
   "cell_type": "code",
   "execution_count": 4,
   "id": "0e69c7ea-0fd1-44c2-84e2-f69b5e005ace",
   "metadata": {},
   "outputs": [],
   "source": [
    "#Calculating Loss \n",
    "def loss_fn(t_p, t_c):\n",
    "    squared_diffs = (t_p - t_c)**2\n",
    "    return squared_diffs.mean()"
   ]
  },
  {
   "cell_type": "code",
   "execution_count": 5,
   "id": "c6a5c73c-c675-4646-93ba-674bb3c26a6d",
   "metadata": {},
   "outputs": [],
   "source": [
    "def training_loop(n_epochs, optimizer, params, t_u, t_c, epoch_report_val = 500):\n",
    "    for epoch in range(1, n_epochs + 1):\n",
    "        t_p = model(t_u, *params) \n",
    "        loss = loss_fn(t_p, t_c)\n",
    "        \n",
    "        optimizer.zero_grad()\n",
    "        \n",
    "        loss.backward()\n",
    "        optimizer.step()\n",
    "\n",
    "        if epoch % epoch_report_val == 0:\n",
    "            print('Epoch %d, Loss %f' % (epoch, float(loss)))\n",
    "            \n",
    "    return params"
   ]
  },
  {
   "cell_type": "code",
   "execution_count": 6,
   "id": "86ecd0b1-db0c-455b-b107-96752855ed17",
   "metadata": {},
   "outputs": [
    {
     "data": {
      "text/plain": [
       "tensor([-2.3139e+03, -3.5181e+01, -5.9642e-01], requires_grad=True)"
      ]
     },
     "execution_count": 6,
     "metadata": {},
     "output_type": "execute_result"
    }
   ],
   "source": [
    "params = torch.tensor([1.0, 1.0, 0.0], requires_grad=True)\n",
    "learningRate = 1e-4\n",
    "optimizer = optim.SGD([params], lr=learningRate)\n",
    "t_p = model(t_u, *params)\n",
    "loss = loss_fn(t_p, t_c)\n",
    "optimizer.zero_grad()\n",
    "loss.backward()\n",
    "optimizer.step()\n",
    "params"
   ]
  },
  {
   "cell_type": "code",
   "execution_count": null,
   "id": "7c392081-1bb7-4299-b5af-5397ea6e10ea",
   "metadata": {},
   "outputs": [],
   "source": []
  },
  {
   "cell_type": "code",
   "execution_count": 7,
   "id": "8ad39478-5234-4b36-bee4-e362b200b24a",
   "metadata": {},
   "outputs": [
    {
     "data": {
      "text/plain": [
       "0.1"
      ]
     },
     "execution_count": 7,
     "metadata": {},
     "output_type": "execute_result"
    }
   ],
   "source": [
    "rates = [0.1, 0.01, 0.001, 0.0001]\n",
    "learningRate = rates[0]\n",
    "learningRate"
   ]
  },
  {
   "cell_type": "code",
   "execution_count": 8,
   "id": "e94a5d97-28ee-4c90-b2d6-b19434b6f384",
   "metadata": {},
   "outputs": [
    {
     "name": "stdout",
     "output_type": "stream",
     "text": [
      "When Learning Rate is 0.1\n",
      "Epoch 500, Loss nan\n",
      "Epoch 1000, Loss nan\n",
      "Epoch 1500, Loss nan\n",
      "Epoch 2000, Loss nan\n",
      "Epoch 2500, Loss nan\n",
      "Epoch 3000, Loss nan\n",
      "Epoch 3500, Loss nan\n",
      "Epoch 4000, Loss nan\n",
      "Epoch 4500, Loss nan\n",
      "Epoch 5000, Loss nan\n",
      "tensor([nan, nan, nan], requires_grad=True)\n",
      "\n",
      "\n",
      "When Learning Rate is 0.01\n",
      "Epoch 500, Loss nan\n",
      "Epoch 1000, Loss nan\n",
      "Epoch 1500, Loss nan\n",
      "Epoch 2000, Loss nan\n",
      "Epoch 2500, Loss nan\n",
      "Epoch 3000, Loss nan\n",
      "Epoch 3500, Loss nan\n",
      "Epoch 4000, Loss nan\n",
      "Epoch 4500, Loss nan\n",
      "Epoch 5000, Loss nan\n",
      "tensor([nan, nan, nan], requires_grad=True)\n",
      "\n",
      "\n",
      "When Learning Rate is 0.001\n",
      "Epoch 500, Loss nan\n",
      "Epoch 1000, Loss nan\n",
      "Epoch 1500, Loss nan\n",
      "Epoch 2000, Loss nan\n",
      "Epoch 2500, Loss nan\n",
      "Epoch 3000, Loss nan\n",
      "Epoch 3500, Loss nan\n",
      "Epoch 4000, Loss nan\n",
      "Epoch 4500, Loss nan\n",
      "Epoch 5000, Loss nan\n",
      "tensor([nan, nan, nan], requires_grad=True)\n",
      "\n",
      "\n",
      "When Learning Rate is 0.0001\n",
      "Epoch 500, Loss 10.708596\n",
      "Epoch 1000, Loss 8.642083\n",
      "Epoch 1500, Loss 7.171005\n",
      "Epoch 2000, Loss 6.123477\n",
      "Epoch 2500, Loss 5.377227\n",
      "Epoch 3000, Loss 4.845285\n",
      "Epoch 3500, Loss 4.465788\n",
      "Epoch 4000, Loss 4.194724\n",
      "Epoch 4500, Loss 4.000802\n",
      "Epoch 5000, Loss 3.861744\n",
      "tensor([ 0.5570, -0.8881, -0.8753], requires_grad=True)\n",
      "\n",
      "\n"
     ]
    }
   ],
   "source": [
    "# Testing Stochastic gradient descent (SGD) against different learning rates.\n",
    "for rate in rates:\n",
    "    print(\"When Learning Rate is\", rate)\n",
    "    \n",
    "    params = torch.tensor([1.0, 1.0, 0.0], requires_grad=True)\n",
    "    learning_rate = rate\n",
    "    optimizer = optim.SGD([params], lr=learning_rate) \n",
    "\n",
    "    training_loop(\n",
    "        n_epochs = 5000, \n",
    "        optimizer = optimizer,\n",
    "        params = params, \n",
    "        t_u = t_un,\n",
    "        t_c = t_c)\n",
    "        \n",
    "    print(params)\n",
    "\n",
    "    print('\\n')"
   ]
  },
  {
   "cell_type": "code",
   "execution_count": 9,
   "id": "f15503fb-cf47-4aa4-82d6-f97a48d9d86f",
   "metadata": {},
   "outputs": [
    {
     "name": "stdout",
     "output_type": "stream",
     "text": [
      "When Learning Rate is 0.1\n",
      "Epoch 500, Loss 2.782508\n",
      "Epoch 1000, Loss 2.486027\n",
      "Epoch 1500, Loss 2.261514\n",
      "Epoch 2000, Loss 2.144077\n",
      "Epoch 2500, Loss 2.101927\n",
      "Epoch 3000, Loss 2.092149\n",
      "Epoch 3500, Loss 2.090817\n",
      "Epoch 4000, Loss 2.090725\n",
      "Epoch 4500, Loss 2.090722\n",
      "Epoch 5000, Loss 2.090721\n",
      "tensor([  0.2830,   2.4760, -10.6496], requires_grad=True)\n",
      "\n",
      "\n",
      "When Learning Rate is 0.01\n",
      "Epoch 500, Loss 6.111171\n",
      "Epoch 1000, Loss 3.936777\n",
      "Epoch 1500, Loss 3.117804\n",
      "Epoch 2000, Loss 2.931840\n",
      "Epoch 2500, Loss 2.871259\n",
      "Epoch 3000, Loss 2.812938\n",
      "Epoch 3500, Loss 2.744089\n",
      "Epoch 4000, Loss 2.664675\n",
      "Epoch 4500, Loss 2.576368\n",
      "Epoch 5000, Loss 2.482456\n",
      "tensor([ 0.4673,  0.4768, -5.6706], requires_grad=True)\n",
      "\n",
      "\n",
      "When Learning Rate is 0.001\n",
      "Epoch 500, Loss 103.795067\n",
      "Epoch 1000, Loss 13.018494\n",
      "Epoch 1500, Loss 8.064861\n",
      "Epoch 2000, Loss 7.688990\n",
      "Epoch 2500, Loss 7.295182\n",
      "Epoch 3000, Loss 6.830940\n",
      "Epoch 3500, Loss 6.306172\n",
      "Epoch 4000, Loss 5.739599\n",
      "Epoch 4500, Loss 5.159212\n",
      "Epoch 5000, Loss 4.600076\n",
      "tensor([ 0.4484, -0.0524, -1.7755], requires_grad=True)\n",
      "\n",
      "\n",
      "When Learning Rate is 0.0001\n",
      "Epoch 500, Loss 578.252686\n",
      "Epoch 1000, Loss 491.236633\n",
      "Epoch 1500, Loss 413.867676\n",
      "Epoch 2000, Loss 345.253937\n",
      "Epoch 2500, Loss 284.667389\n",
      "Epoch 3000, Loss 231.510742\n",
      "Epoch 3500, Loss 185.283463\n",
      "Epoch 4000, Loss 145.552231\n",
      "Epoch 4500, Loss 111.921761\n",
      "Epoch 5000, Loss 84.009377\n",
      "tensor([ 0.5721,  0.5698, -0.4337], requires_grad=True)\n",
      "\n",
      "\n"
     ]
    }
   ],
   "source": [
    "# Testing Adaptive Moment Estimation for gradient descent using different learning rates\n",
    "for rate in rates:\n",
    "    print(\"When Learning Rate is\", rate)\n",
    "    \n",
    "    params = torch.tensor([1.0, 1.0, 0.0], requires_grad=True)\n",
    "    learning_rate = rate\n",
    "    optimizer = optim.Adam([params], lr=learning_rate) \n",
    "\n",
    "    training_loop(\n",
    "        n_epochs = 5000, \n",
    "        optimizer = optimizer,\n",
    "        params = params, \n",
    "        t_u = t_un,\n",
    "        t_c = t_c)\n",
    "    \n",
    "    print(params)\n",
    "    \n",
    "    print('\\n')"
   ]
  },
  {
   "cell_type": "code",
   "execution_count": 10,
   "id": "78a55d8c-2b2d-4a19-849a-64beaac4be35",
   "metadata": {},
   "outputs": [
    {
     "name": "stdout",
     "output_type": "stream",
     "text": [
      "When Learning Rate is 0.1\n",
      "Epoch 500, Loss 5.596802\n",
      "Epoch 1000, Loss 4.238869\n",
      "Epoch 1500, Loss 3.588042\n",
      "Epoch 2000, Loss 3.269352\n",
      "Epoch 2500, Loss 3.109431\n",
      "Epoch 3000, Loss 3.026104\n",
      "Epoch 3500, Loss 2.979919\n",
      "Epoch 4000, Loss 2.951834\n",
      "Epoch 4500, Loss 2.932615\n",
      "Epoch 5000, Loss 2.917779\n",
      "tensor([ 0.5440, -0.3944, -3.3654], requires_grad=True)\n",
      "\n",
      "\n",
      "When Learning Rate is 0.01\n",
      "Epoch 500, Loss 130.226944\n",
      "Epoch 1000, Loss 51.754883\n",
      "Epoch 1500, Loss 24.967461\n",
      "Epoch 2000, Loss 14.816223\n",
      "Epoch 2500, Loss 10.820044\n",
      "Epoch 3000, Loss 9.208423\n",
      "Epoch 3500, Loss 8.536825\n",
      "Epoch 4000, Loss 8.238480\n",
      "Epoch 4500, Loss 8.088947\n",
      "Epoch 5000, Loss 7.999007\n",
      "tensor([ 0.3664,  0.3244, -0.7380], requires_grad=True)\n",
      "\n",
      "\n",
      "When Learning Rate is 0.001\n",
      "Epoch 500, Loss 590.399963\n",
      "Epoch 1000, Loss 556.178894\n",
      "Epoch 1500, Loss 530.868225\n",
      "Epoch 2000, Loss 510.160034\n",
      "Epoch 2500, Loss 492.386841\n",
      "Epoch 3000, Loss 476.694336\n",
      "Epoch 3500, Loss 462.575592\n",
      "Epoch 4000, Loss 449.700409\n",
      "Epoch 4500, Loss 437.839050\n",
      "Epoch 5000, Loss 426.825073\n",
      "tensor([ 0.8656,  0.8655, -0.1347], requires_grad=True)\n",
      "\n",
      "\n",
      "When Learning Rate is 0.0001\n",
      "Epoch 500, Loss 666.895081\n",
      "Epoch 1000, Loss 663.106018\n",
      "Epoch 1500, Loss 660.208496\n",
      "Epoch 2000, Loss 657.772339\n",
      "Epoch 2500, Loss 655.631165\n",
      "Epoch 3000, Loss 653.698792\n",
      "Epoch 3500, Loss 651.928284\n",
      "Epoch 4000, Loss 650.279907\n",
      "Epoch 4500, Loss 648.737610\n",
      "Epoch 5000, Loss 647.275208\n",
      "tensor([ 0.9861,  0.9861, -0.0139], requires_grad=True)\n",
      "\n",
      "\n"
     ]
    }
   ],
   "source": [
    "for rate in rates:\n",
    "    print(\"When Learning Rate is\", rate)\n",
    "    \n",
    "    params = torch.tensor([1.0, 1.0, 0.0], requires_grad=True)\n",
    "    learning_rate = rate\n",
    "    optimizer = optim.Adagrad([params], lr=learning_rate) \n",
    "    training_loop(\n",
    "        n_epochs = 5000, \n",
    "        optimizer = optimizer,\n",
    "        params = params, \n",
    "        t_u = t_un,\n",
    "        t_c = t_c)\n",
    "    print(params)\n",
    "    \n",
    "    print('\\n')"
   ]
  },
  {
   "cell_type": "code",
   "execution_count": 11,
   "id": "192d942a-ff4d-4555-8800-f9460157701f",
   "metadata": {},
   "outputs": [
    {
     "name": "stdout",
     "output_type": "stream",
     "text": [
      "When Learning Rate is 0.1\n",
      "Epoch 500, Loss nan\n",
      "Epoch 1000, Loss nan\n",
      "Epoch 1500, Loss nan\n",
      "Epoch 2000, Loss nan\n",
      "Epoch 2500, Loss nan\n",
      "Epoch 3000, Loss nan\n",
      "Epoch 3500, Loss nan\n",
      "Epoch 4000, Loss nan\n",
      "Epoch 4500, Loss nan\n",
      "Epoch 5000, Loss nan\n",
      "tensor([nan, nan, nan], requires_grad=True)\n",
      "\n",
      "\n",
      "When Learning Rate is 0.01\n",
      "Epoch 500, Loss nan\n",
      "Epoch 1000, Loss nan\n",
      "Epoch 1500, Loss nan\n",
      "Epoch 2000, Loss nan\n",
      "Epoch 2500, Loss nan\n",
      "Epoch 3000, Loss nan\n",
      "Epoch 3500, Loss nan\n",
      "Epoch 4000, Loss nan\n",
      "Epoch 4500, Loss nan\n",
      "Epoch 5000, Loss nan\n",
      "tensor([nan, nan, nan], requires_grad=True)\n",
      "\n",
      "\n",
      "When Learning Rate is 0.001\n",
      "Epoch 500, Loss nan\n",
      "Epoch 1000, Loss nan\n",
      "Epoch 1500, Loss nan\n",
      "Epoch 2000, Loss nan\n",
      "Epoch 2500, Loss nan\n",
      "Epoch 3000, Loss nan\n",
      "Epoch 3500, Loss nan\n",
      "Epoch 4000, Loss nan\n",
      "Epoch 4500, Loss nan\n",
      "Epoch 5000, Loss nan\n",
      "tensor([nan, nan, nan], requires_grad=True)\n",
      "\n",
      "\n",
      "When Learning Rate is 0.0001\n",
      "Epoch 500, Loss 10.708604\n",
      "Epoch 1000, Loss 8.642097\n",
      "Epoch 1500, Loss 7.171026\n",
      "Epoch 2000, Loss 6.123503\n",
      "Epoch 2500, Loss 5.377255\n",
      "Epoch 3000, Loss 4.845316\n",
      "Epoch 3500, Loss 4.465815\n",
      "Epoch 4000, Loss 4.194750\n",
      "Epoch 4500, Loss 4.000824\n",
      "Epoch 5000, Loss 3.861767\n",
      "tensor([ 0.5570, -0.8881, -0.8753], requires_grad=True)\n",
      "\n",
      "\n"
     ]
    }
   ],
   "source": [
    "for rate in rates:\n",
    "    print(\"When Learning Rate is\", rate)\n",
    "    \n",
    "    params = torch.tensor([1.0, 1.0, 0.0], requires_grad=True)\n",
    "    learning_rate = rate\n",
    "    optimizer = optim.ASGD([params], lr=learning_rate) \n",
    "\n",
    "    training_loop(\n",
    "        n_epochs = 5000, \n",
    "        optimizer = optimizer,\n",
    "        params = params, \n",
    "        t_u = t_un,\n",
    "        t_c = t_c)\n",
    "    \n",
    "    print(params)\n",
    "    \n",
    "    print('\\n')"
   ]
  },
  {
   "cell_type": "code",
   "execution_count": 12,
   "id": "954e7908-1fdf-48be-86e0-cca620124b49",
   "metadata": {},
   "outputs": [
    {
     "data": {
      "image/png": "[encoded data removed]",
      "text/plain": [
       "<Figure size 432x288 with 1 Axes>"
      ]
     },
     "metadata": {
      "needs_background": "light"
     },
     "output_type": "display_data"
    }
   ],
   "source": [
    "t_p = model(t_un, *params)\n",
    "\n",
    "plt.xlabel(\"Temperature (°Fahrenheit)\")\n",
    "plt.ylabel(\"Temperature (°Celsius)\")\n",
    "plt.plot(t_u.numpy(), t_p.detach().numpy(), label = \"non-linear moodel\")\n",
    "plt.plot(t_u.numpy(), t_c.numpy(), 'o', label = \"Data\")\n",
    "plt.legend()\n",
    "plt.grid()\n",
    "plt.show()"
   ]
  },
  {
   "cell_type": "code",
   "execution_count": null,
   "id": "432626da-0523-432b-99e9-d502d941d340",
   "metadata": {},
   "outputs": [],
   "source": []
  }
 ],
 "metadata": {
  "kernelspec": {
   "display_name": "Python 3 (ipykernel)",
   "language": "python",
   "name": "python3"
  },
  "language_info": {
   "codemirror_mode": {
    "name": "ipython",
    "version": 3
   },
   "file_extension": ".py",
   "mimetype": "text/x-python",
   "name": "python",
   "nbconvert_exporter": "python",
   "pygments_lexer": "ipython3",
   "version": "3.9.12"
  }
 },
 "nbformat": 4,
 "nbformat_minor": 5
}
