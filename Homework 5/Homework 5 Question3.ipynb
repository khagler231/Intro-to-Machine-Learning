{
 "cells": [
  {
   "cell_type": "code",
   "execution_count": 1,
   "id": "11072b1c-329f-4774-8a46-a51ef653d649",
   "metadata": {},
   "outputs": [],
   "source": [
    "from sklearn.preprocessing import StandardScaler\n",
    "from sklearn.model_selection import train_test_split\n",
    "import numpy as np \n",
    "import matplotlib.pyplot as plt \n",
    "import pandas as pd \n",
    "import torch\n",
    "import torch.optim as optim\n",
    "import torch.nn as nn\n",
    "from collections import OrderedDict\n",
    "import warnings\n",
    "warnings.filterwarnings('ignore') \n",
    "%matplotlib inline"
   ]
  },
  {
   "cell_type": "markdown",
   "id": "dc5e5c00-d6b0-4bee-8825-06e9c7b48d8f",
   "metadata": {
    "tags": []
   },
   "source": [
    "# Homework 5 Question 3: Neural Network\n"
   ]
  },
  {
   "cell_type": "code",
   "execution_count": 2,
   "id": "2ca3a704-3632-4e69-a5fe-8747634e7eac",
   "metadata": {},
   "outputs": [
    {
     "data": {
      "text/html": [
       "<div>\n",
       "<style scoped>\n",
       "    .dataframe tbody tr th:only-of-type {\n",
       "        vertical-align: middle;\n",
       "    }\n",
       "\n",
       "    .dataframe tbody tr th {\n",
       "        vertical-align: top;\n",
       "    }\n",
       "\n",
       "    .dataframe thead th {\n",
       "        text-align: right;\n",
       "    }\n",
       "</style>\n",
       "<table border=\"1\" class=\"dataframe\">\n",
       "  <thead>\n",
       "    <tr style=\"text-align: right;\">\n",
       "      <th></th>\n",
       "      <th>area</th>\n",
       "      <th>bedrooms</th>\n",
       "      <th>bathrooms</th>\n",
       "      <th>stories</th>\n",
       "      <th>parking</th>\n",
       "      <th>price</th>\n",
       "    </tr>\n",
       "  </thead>\n",
       "  <tbody>\n",
       "    <tr>\n",
       "      <th>0</th>\n",
       "      <td>7420</td>\n",
       "      <td>4</td>\n",
       "      <td>2</td>\n",
       "      <td>3</td>\n",
       "      <td>2</td>\n",
       "      <td>13300000</td>\n",
       "    </tr>\n",
       "    <tr>\n",
       "      <th>1</th>\n",
       "      <td>8960</td>\n",
       "      <td>4</td>\n",
       "      <td>4</td>\n",
       "      <td>4</td>\n",
       "      <td>3</td>\n",
       "      <td>12250000</td>\n",
       "    </tr>\n",
       "    <tr>\n",
       "      <th>2</th>\n",
       "      <td>9960</td>\n",
       "      <td>3</td>\n",
       "      <td>2</td>\n",
       "      <td>2</td>\n",
       "      <td>2</td>\n",
       "      <td>12250000</td>\n",
       "    </tr>\n",
       "    <tr>\n",
       "      <th>3</th>\n",
       "      <td>7500</td>\n",
       "      <td>4</td>\n",
       "      <td>2</td>\n",
       "      <td>2</td>\n",
       "      <td>3</td>\n",
       "      <td>12215000</td>\n",
       "    </tr>\n",
       "    <tr>\n",
       "      <th>4</th>\n",
       "      <td>7420</td>\n",
       "      <td>4</td>\n",
       "      <td>1</td>\n",
       "      <td>2</td>\n",
       "      <td>2</td>\n",
       "      <td>11410000</td>\n",
       "    </tr>\n",
       "  </tbody>\n",
       "</table>\n",
       "</div>"
      ],
      "text/plain": [
       "   area  bedrooms  bathrooms  stories  parking     price\n",
       "0  7420         4          2        3        2  13300000\n",
       "1  8960         4          4        4        3  12250000\n",
       "2  9960         3          2        2        2  12250000\n",
       "3  7500         4          2        2        3  12215000\n",
       "4  7420         4          1        2        2  11410000"
      ]
     },
     "execution_count": 2,
     "metadata": {},
     "output_type": "execute_result"
    }
   ],
   "source": [
    "housing = pd.read_csv('Housing.csv')\n",
    "vars = ['area', 'bedrooms', 'bathrooms', 'stories', 'parking', 'price']\n",
    "data = housing[vars]\n",
    "data.head()"
   ]
  },
  {
   "cell_type": "code",
   "execution_count": 3,
   "id": "1a8d6958-8fb4-4e82-970d-745647e7588a",
   "metadata": {},
   "outputs": [
    {
     "data": {
      "text/html": [
       "<div>\n",
       "<style scoped>\n",
       "    .dataframe tbody tr th:only-of-type {\n",
       "        vertical-align: middle;\n",
       "    }\n",
       "\n",
       "    .dataframe tbody tr th {\n",
       "        vertical-align: top;\n",
       "    }\n",
       "\n",
       "    .dataframe thead th {\n",
       "        text-align: right;\n",
       "    }\n",
       "</style>\n",
       "<table border=\"1\" class=\"dataframe\">\n",
       "  <thead>\n",
       "    <tr style=\"text-align: right;\">\n",
       "      <th></th>\n",
       "      <th>0</th>\n",
       "      <th>1</th>\n",
       "      <th>2</th>\n",
       "      <th>3</th>\n",
       "      <th>4</th>\n",
       "      <th>5</th>\n",
       "    </tr>\n",
       "  </thead>\n",
       "  <tbody>\n",
       "    <tr>\n",
       "      <th>0</th>\n",
       "      <td>1.046726</td>\n",
       "      <td>1.403419</td>\n",
       "      <td>1.421812</td>\n",
       "      <td>1.378217</td>\n",
       "      <td>1.517692</td>\n",
       "      <td>4.566365</td>\n",
       "    </tr>\n",
       "    <tr>\n",
       "      <th>1</th>\n",
       "      <td>1.757010</td>\n",
       "      <td>1.403419</td>\n",
       "      <td>5.405809</td>\n",
       "      <td>2.532024</td>\n",
       "      <td>2.679409</td>\n",
       "      <td>4.004484</td>\n",
       "    </tr>\n",
       "    <tr>\n",
       "      <th>2</th>\n",
       "      <td>2.218232</td>\n",
       "      <td>0.047278</td>\n",
       "      <td>1.421812</td>\n",
       "      <td>0.224410</td>\n",
       "      <td>1.517692</td>\n",
       "      <td>4.004484</td>\n",
       "    </tr>\n",
       "    <tr>\n",
       "      <th>3</th>\n",
       "      <td>1.083624</td>\n",
       "      <td>1.403419</td>\n",
       "      <td>1.421812</td>\n",
       "      <td>0.224410</td>\n",
       "      <td>2.679409</td>\n",
       "      <td>3.985755</td>\n",
       "    </tr>\n",
       "    <tr>\n",
       "      <th>4</th>\n",
       "      <td>1.046726</td>\n",
       "      <td>1.403419</td>\n",
       "      <td>-0.570187</td>\n",
       "      <td>0.224410</td>\n",
       "      <td>1.517692</td>\n",
       "      <td>3.554979</td>\n",
       "    </tr>\n",
       "  </tbody>\n",
       "</table>\n",
       "</div>"
      ],
      "text/plain": [
       "          0         1         2         3         4         5\n",
       "0  1.046726  1.403419  1.421812  1.378217  1.517692  4.566365\n",
       "1  1.757010  1.403419  5.405809  2.532024  2.679409  4.004484\n",
       "2  2.218232  0.047278  1.421812  0.224410  1.517692  4.004484\n",
       "3  1.083624  1.403419  1.421812  0.224410  2.679409  3.985755\n",
       "4  1.046726  1.403419 -0.570187  0.224410  1.517692  3.554979"
      ]
     },
     "execution_count": 3,
     "metadata": {},
     "output_type": "execute_result"
    }
   ],
   "source": [
    "data_scaled = StandardScaler()\n",
    "data_scaled = data_scaled.fit_transform(data.values[:,:])\n",
    "data_scaled = pd.DataFrame(data_scaled)\n",
    "data_scaled.head()"
   ]
  },
  {
   "cell_type": "code",
   "execution_count": 4,
   "id": "b75e7630-6f0a-41f4-b053-0141e453e155",
   "metadata": {},
   "outputs": [
    {
     "data": {
      "text/plain": [
       "array([[ 1.04672629,  1.40341936,  1.42181174,  1.37821692,  1.51769249],\n",
       "       [ 1.75700953,  1.40341936,  5.40580863,  2.53202371,  2.67940935],\n",
       "       [ 2.21823241,  0.04727831,  1.42181174,  0.22441013,  1.51769249],\n",
       "       ...,\n",
       "       [-0.70592066, -1.30886273, -0.57018671, -0.92939666, -0.80574124],\n",
       "       [-1.03338891,  0.04727831, -0.57018671, -0.92939666, -0.80574124],\n",
       "       [-0.5998394 ,  0.04727831, -0.57018671,  0.22441013, -0.80574124]])"
      ]
     },
     "execution_count": 4,
     "metadata": {},
     "output_type": "execute_result"
    }
   ],
   "source": [
    "y = data_scaled.values[:,5]\n",
    "x = data_scaled.values[:,0:5]\n",
    "x"
   ]
  },
  {
   "cell_type": "code",
   "execution_count": 5,
   "id": "f5a2fc97-dbe4-4b1b-a8a5-f980ddd74b2c",
   "metadata": {},
   "outputs": [
    {
     "data": {
      "text/plain": [
       "tensor([[ 1.0467,  1.4034,  1.4218,  1.3782,  1.5177],\n",
       "        [ 1.7570,  1.4034,  5.4058,  2.5320,  2.6794],\n",
       "        [ 2.2182,  0.0473,  1.4218,  0.2244,  1.5177],\n",
       "        ...,\n",
       "        [-0.7059, -1.3089, -0.5702, -0.9294, -0.8057],\n",
       "        [-1.0334,  0.0473, -0.5702, -0.9294, -0.8057],\n",
       "        [-0.5998,  0.0473, -0.5702,  0.2244, -0.8057]])"
      ]
     },
     "execution_count": 5,
     "metadata": {},
     "output_type": "execute_result"
    }
   ],
   "source": [
    "# Converting data from array to tensors\n",
    "x = torch.tensor(x, dtype=torch.float32)\n",
    "y = torch.tensor(y, dtype=torch.float32)\n",
    "x"
   ]
  },
  {
   "cell_type": "code",
   "execution_count": 6,
   "id": "1c976ad7-8db8-466f-b380-9bf346f56760",
   "metadata": {},
   "outputs": [
    {
     "name": "stdout",
     "output_type": "stream",
     "text": [
      "torch.Size([436, 5]) torch.Size([109, 5]) torch.Size([436]) torch.Size([109])\n"
     ]
    }
   ],
   "source": [
    "# Splitting data into 20% testing and 80% training\n",
    "xTrain, xVal, yTrain, yVal = train_test_split(x, y, test_size=0.2, random_state = 0)\n",
    "print(xTrain.shape, xVal.shape, yTrain.shape, yVal.shape)"
   ]
  },
  {
   "cell_type": "code",
   "execution_count": 7,
   "id": "cf7cbb92-8124-4b4e-aa9c-70a6e8990f68",
   "metadata": {},
   "outputs": [],
   "source": [
    "# Setting Variables for testing data and validation data\n",
    "# Training Data\n",
    "areaTrain = xTrain[:,0]\n",
    "bedTrain = xTrain[:,1]\n",
    "bathTrain = xTrain[:,2]\n",
    "storiesTrain = xTrain[:,3]\n",
    "parkingTrain = xTrain[:,4]\n",
    "priceTrain = yTrain\n",
    "\n",
    "# Testing/ Validation Data\n",
    "areaTest = xVal[:,0]\n",
    "bedTest = xVal[:,1]\n",
    "bathTest = xVal[:,2]\n",
    "storiesTest = xVal[:,3]\n",
    "parkingTest = xVal[:,4]\n",
    "priceTest = yVal"
   ]
  },
  {
   "cell_type": "code",
   "execution_count": 8,
   "id": "a13aafd6-1e51-4b82-a1fa-73b324a52a54",
   "metadata": {
    "tags": []
   },
   "outputs": [],
   "source": [
    "# Functions\n",
    "def loss_fn(t_p, t_c):\n",
    "    squared_diffs = (t_p - t_c)**2\n",
    "    return squared_diffs.mean()\n",
    "\n",
    "def training_loop (n_epochs, optimizer, model, loss_fn, xTrain, xVal, yTrain, yVal, e, lossTrain, lossVal):\n",
    "    for epoch in range(1, n_epochs + 1):\n",
    "        t_p_train = model(xTrain)\n",
    "        loss_train = loss_fn(t_p_train, yTrain)\n",
    "        \n",
    "        t_p_val = model(xVal)\n",
    "        loss_val = loss_fn(t_p_val, yVal)\n",
    "\n",
    "        optimizer.zero_grad()\n",
    "        loss_train.backward()\n",
    "        optimizer.step()\n",
    "        e.append(epoch)\n",
    "        lossTrain.append(loss_train.item())\n",
    "       \n",
    "        lossVal.append(loss_val.item())\n",
    "        \n",
    "        if epoch == 1 or epoch % 10 == 0:\n",
    "            print(f\"Epoch {epoch}, Training loss {loss_train.item():.4f},\"\n",
    "                  f\" Validation loss {loss_val:.4f}\")\n"
   ]
  },
  {
   "cell_type": "markdown",
   "id": "851a71c9-3bd7-48a6-bc00-2833ce803886",
   "metadata": {
    "tags": []
   },
   "source": [
    "# Creating Neural Network with 1 hidden layer"
   ]
  },
  {
   "cell_type": "code",
   "execution_count": 9,
   "id": "9da2ae62-81fa-4d16-86e5-4cfc0f132caf",
   "metadata": {
    "tags": []
   },
   "outputs": [
    {
     "data": {
      "text/plain": [
       "Sequential(\n",
       "  (hidden_linear): Linear(in_features=5, out_features=8, bias=True)\n",
       "  (hidden_activation): Tanh()\n",
       "  (output_linear): Linear(in_features=8, out_features=1, bias=True)\n",
       ")"
      ]
     },
     "execution_count": 9,
     "metadata": {},
     "output_type": "execute_result"
    }
   ],
   "source": [
    "linear_model = nn.Linear(1, 1)\n",
    "optimizer = optim.SGD(linear_model.parameters(), lr=1e-2)\n",
    "\n",
    "seq_model = nn.Sequential(OrderedDict([\n",
    "    ('hidden_linear', nn.Linear(5, 8)),\n",
    "    ('hidden_activation', nn.Tanh()),\n",
    "    ('output_linear', nn.Linear(8, 1))\n",
    "]))\n",
    "\n",
    "seq_model"
   ]
  },
  {
   "cell_type": "code",
   "execution_count": 10,
   "id": "6b39e84e-f3df-452f-9515-93548c1b375c",
   "metadata": {
    "tags": []
   },
   "outputs": [
    {
     "name": "stdout",
     "output_type": "stream",
     "text": [
      "Epoch 1, Training loss 1.1640, Validation loss 0.9058\n",
      "Epoch 10, Training loss 1.0875, Validation loss 0.8546\n",
      "Epoch 20, Training loss 1.0620, Validation loss 0.8391\n",
      "Epoch 30, Training loss 1.0530, Validation loss 0.8338\n",
      "Epoch 40, Training loss 1.0493, Validation loss 0.8316\n",
      "Epoch 50, Training loss 1.0475, Validation loss 0.8304\n",
      "Epoch 60, Training loss 1.0466, Validation loss 0.8296\n",
      "Epoch 70, Training loss 1.0460, Validation loss 0.8291\n",
      "Epoch 80, Training loss 1.0455, Validation loss 0.8287\n",
      "Epoch 90, Training loss 1.0452, Validation loss 0.8284\n",
      "Epoch 100, Training loss 1.0450, Validation loss 0.8281\n",
      "Epoch 110, Training loss 1.0449, Validation loss 0.8279\n",
      "Epoch 120, Training loss 1.0447, Validation loss 0.8277\n",
      "Epoch 130, Training loss 1.0446, Validation loss 0.8276\n",
      "Epoch 140, Training loss 1.0445, Validation loss 0.8275\n",
      "Epoch 150, Training loss 1.0445, Validation loss 0.8274\n",
      "Epoch 160, Training loss 1.0444, Validation loss 0.8273\n",
      "Epoch 170, Training loss 1.0444, Validation loss 0.8273\n",
      "Epoch 180, Training loss 1.0443, Validation loss 0.8272\n",
      "Epoch 190, Training loss 1.0443, Validation loss 0.8272\n",
      "Epoch 200, Training loss 1.0443, Validation loss 0.8271\n"
     ]
    }
   ],
   "source": [
    "epoch_1 = []\n",
    "lossTrain_1 = []\n",
    "lossVal_1 = []\n",
    "optimizer = optim.SGD(seq_model.parameters(), lr=.03)\n",
    "pareter1 = training_loop(n_epochs = 200, \n",
    "              optimizer = optimizer, \n",
    "              model = seq_model,\n",
    "              loss_fn = loss_fn, \n",
    "              xTrain = xTrain, \n",
    "              xVal = xVal, \n",
    "              yTrain = yTrain, \n",
    "              yVal = yVal, \n",
    "              e = epoch_1, \n",
    "              lossTrain = lossTrain_1, \n",
    "              lossVal = lossVal_1)"
   ]
  },
  {
   "cell_type": "code",
   "execution_count": 11,
   "id": "1cebd801-0656-4758-b230-9b81dc4ee6b9",
   "metadata": {},
   "outputs": [
    {
     "data": {
      "image/png": "[encoded data removed]",
      "text/plain": [
       "<Figure size 432x288 with 1 Axes>"
      ]
     },
     "metadata": {
      "needs_background": "light"
     },
     "output_type": "display_data"
    }
   ],
   "source": [
    "plt.plot(epoch_1, lossTrain_1, label = \"Training Loss\")\n",
    "plt.plot(epoch_1, lossVal_1, label = \"Validation Loss\")\n",
    "plt.xlabel(\"Epochs\")\n",
    "plt.ylabel(\"Loss\")\n",
    "plt.title(\"Epochs vs. Loss for 1 hidden layer\")\n",
    "plt.legend()\n",
    "plt.grid()\n",
    "plt.show()"
   ]
  },
  {
   "cell_type": "markdown",
   "id": "53407cc0-4611-4966-88d4-24a579ddba1b",
   "metadata": {
    "tags": []
   },
   "source": [
    "# Creating Neural Network with 3 hidden layer"
   ]
  },
  {
   "cell_type": "code",
   "execution_count": 12,
   "id": "58384d7d-1c7f-415b-90fb-3e0c14a2e5a4",
   "metadata": {},
   "outputs": [],
   "source": [
    "seq_model = nn.Sequential(OrderedDict([\n",
    "    ('hidden_linear_1', nn.Linear(5, 8)),\n",
    "    ('hidden_activation_1', nn.ReLU()),\n",
    "    ('hidden_linear_2', nn.Linear(8, 8)),\n",
    "    ('hidden_activation_2', nn.ReLU()),\n",
    "    ('hidden_linear_3', nn.Linear(8, 8)),\n",
    "    ('hidden_activation_3', nn.ReLU()),\n",
    "    ('output_linear', nn.Linear(8, 1))\n",
    "]))"
   ]
  },
  {
   "cell_type": "code",
   "execution_count": 13,
   "id": "a1ac6b6b-b054-4020-b544-a08c6d8a8abb",
   "metadata": {},
   "outputs": [
    {
     "name": "stdout",
     "output_type": "stream",
     "text": [
      "Epoch 1, Training loss 1.0976, Validation loss 0.8933\n",
      "Epoch 10, Training loss 1.0502, Validation loss 0.8372\n",
      "Epoch 20, Training loss 1.0444, Validation loss 0.8283\n",
      "Epoch 30, Training loss 1.0439, Validation loss 0.8267\n",
      "Epoch 40, Training loss 1.0438, Validation loss 0.8264\n",
      "Epoch 50, Training loss 1.0438, Validation loss 0.8263\n",
      "Epoch 60, Training loss 1.0438, Validation loss 0.8262\n",
      "Epoch 70, Training loss 1.0438, Validation loss 0.8262\n",
      "Epoch 80, Training loss 1.0438, Validation loss 0.8262\n",
      "Epoch 90, Training loss 1.0438, Validation loss 0.8262\n",
      "Epoch 100, Training loss 1.0437, Validation loss 0.8262\n",
      "Epoch 110, Training loss 1.0437, Validation loss 0.8262\n",
      "Epoch 120, Training loss 1.0437, Validation loss 0.8262\n",
      "Epoch 130, Training loss 1.0437, Validation loss 0.8261\n",
      "Epoch 140, Training loss 1.0437, Validation loss 0.8261\n",
      "Epoch 150, Training loss 1.0437, Validation loss 0.8261\n",
      "Epoch 160, Training loss 1.0437, Validation loss 0.8261\n",
      "Epoch 170, Training loss 1.0437, Validation loss 0.8261\n",
      "Epoch 180, Training loss 1.0437, Validation loss 0.8261\n",
      "Epoch 190, Training loss 1.0437, Validation loss 0.8261\n",
      "Epoch 200, Training loss 1.0437, Validation loss 0.8261\n"
     ]
    }
   ],
   "source": [
    "epoch_3 = []\n",
    "lossTrain_3 = []\n",
    "lossVal_3 = []\n",
    "optimizer = optim.SGD(seq_model.parameters(), lr=0.05)\n",
    "pareter3 = training_loop(n_epochs = 200, \n",
    "              optimizer = optimizer, \n",
    "              model = seq_model,\n",
    "              loss_fn = loss_fn, \n",
    "              xTrain = xTrain, \n",
    "              xVal = xVal, \n",
    "              yTrain = yTrain, \n",
    "              yVal = yVal, \n",
    "              e = epoch_3, \n",
    "              lossTrain = lossTrain_3, \n",
    "              lossVal = lossVal_3)"
   ]
  },
  {
   "cell_type": "code",
   "execution_count": 14,
   "id": "1e257780-ba52-4672-a6d1-f036c87e784a",
   "metadata": {},
   "outputs": [
    {
     "data": {
      "image/png": "[encoded data removed]",
      "text/plain": [
       "<Figure size 432x288 with 1 Axes>"
      ]
     },
     "metadata": {
      "needs_background": "light"
     },
     "output_type": "display_data"
    }
   ],
   "source": [
    "plt.plot(epoch_3, lossTrain_3, label = \"Training Loss\")\n",
    "plt.plot(epoch_3, lossVal_3, label = \"Validation Loss\")\n",
    "plt.xlabel(\"Epochs\")\n",
    "plt.ylabel(\"Loss\")\n",
    "plt.title(\"Epochs vs. Loss for 3 hidden layer\")\n",
    "plt.legend()\n",
    "plt.grid()\n",
    "plt.show()"
   ]
  }
 ],
 "metadata": {
  "kernelspec": {
   "display_name": "Python 3 (ipykernel)",
   "language": "python",
   "name": "python3"
  },
  "language_info": {
   "codemirror_mode": {
    "name": "ipython",
    "version": 3
   },
   "file_extension": ".py",
   "mimetype": "text/x-python",
   "name": "python",
   "nbconvert_exporter": "python",
   "pygments_lexer": "ipython3",
   "version": "3.9.12"
  }
 },
 "nbformat": 4,
 "nbformat_minor": 5
}
