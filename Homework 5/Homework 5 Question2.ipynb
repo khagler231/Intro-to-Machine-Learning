{
 "cells": [
  {
   "cell_type": "code",
   "execution_count": 1,
   "id": "1b151a1e-cee6-4431-bc33-e9bf7436fa58",
   "metadata": {},
   "outputs": [],
   "source": [
    "from sklearn.preprocessing import StandardScaler\n",
    "from sklearn.model_selection import train_test_split\n",
    "import numpy as np \n",
    "import matplotlib.pyplot as plt \n",
    "import pandas as pd \n",
    "import torch\n",
    "import torch.optim as optim\n",
    "import torch.nn as nn\n",
    "import warnings\n",
    "warnings.filterwarnings('ignore') \n",
    "%matplotlib inline"
   ]
  },
  {
   "cell_type": "markdown",
   "id": "2f64385e-460c-4958-a47a-696ab0fb7082",
   "metadata": {
    "tags": []
   },
   "source": [
    "# Homework 5 Question 2: Housing Training "
   ]
  },
  {
   "cell_type": "code",
   "execution_count": 2,
   "id": "c9269518-c1bd-4c04-8d1d-444d20db9adf",
   "metadata": {},
   "outputs": [
    {
     "data": {
      "text/html": [
       "<div>\n",
       "<style scoped>\n",
       "    .dataframe tbody tr th:only-of-type {\n",
       "        vertical-align: middle;\n",
       "    }\n",
       "\n",
       "    .dataframe tbody tr th {\n",
       "        vertical-align: top;\n",
       "    }\n",
       "\n",
       "    .dataframe thead th {\n",
       "        text-align: right;\n",
       "    }\n",
       "</style>\n",
       "<table border=\"1\" class=\"dataframe\">\n",
       "  <thead>\n",
       "    <tr style=\"text-align: right;\">\n",
       "      <th></th>\n",
       "      <th>area</th>\n",
       "      <th>bedrooms</th>\n",
       "      <th>bathrooms</th>\n",
       "      <th>stories</th>\n",
       "      <th>parking</th>\n",
       "      <th>price</th>\n",
       "    </tr>\n",
       "  </thead>\n",
       "  <tbody>\n",
       "    <tr>\n",
       "      <th>0</th>\n",
       "      <td>7420</td>\n",
       "      <td>4</td>\n",
       "      <td>2</td>\n",
       "      <td>3</td>\n",
       "      <td>2</td>\n",
       "      <td>13300000</td>\n",
       "    </tr>\n",
       "    <tr>\n",
       "      <th>1</th>\n",
       "      <td>8960</td>\n",
       "      <td>4</td>\n",
       "      <td>4</td>\n",
       "      <td>4</td>\n",
       "      <td>3</td>\n",
       "      <td>12250000</td>\n",
       "    </tr>\n",
       "    <tr>\n",
       "      <th>2</th>\n",
       "      <td>9960</td>\n",
       "      <td>3</td>\n",
       "      <td>2</td>\n",
       "      <td>2</td>\n",
       "      <td>2</td>\n",
       "      <td>12250000</td>\n",
       "    </tr>\n",
       "    <tr>\n",
       "      <th>3</th>\n",
       "      <td>7500</td>\n",
       "      <td>4</td>\n",
       "      <td>2</td>\n",
       "      <td>2</td>\n",
       "      <td>3</td>\n",
       "      <td>12215000</td>\n",
       "    </tr>\n",
       "    <tr>\n",
       "      <th>4</th>\n",
       "      <td>7420</td>\n",
       "      <td>4</td>\n",
       "      <td>1</td>\n",
       "      <td>2</td>\n",
       "      <td>2</td>\n",
       "      <td>11410000</td>\n",
       "    </tr>\n",
       "  </tbody>\n",
       "</table>\n",
       "</div>"
      ],
      "text/plain": [
       "   area  bedrooms  bathrooms  stories  parking     price\n",
       "0  7420         4          2        3        2  13300000\n",
       "1  8960         4          4        4        3  12250000\n",
       "2  9960         3          2        2        2  12250000\n",
       "3  7500         4          2        2        3  12215000\n",
       "4  7420         4          1        2        2  11410000"
      ]
     },
     "execution_count": 2,
     "metadata": {},
     "output_type": "execute_result"
    }
   ],
   "source": [
    "housing = pd.read_csv('Housing.csv')\n",
    "vars = ['area', 'bedrooms', 'bathrooms', 'stories', 'parking', 'price']\n",
    "data = housing[vars]\n",
    "data.head()\n"
   ]
  },
  {
   "cell_type": "code",
   "execution_count": 3,
   "id": "622a17a7-9703-4c09-b4d0-a0c0608bf215",
   "metadata": {},
   "outputs": [
    {
     "data": {
      "text/html": [
       "<div>\n",
       "<style scoped>\n",
       "    .dataframe tbody tr th:only-of-type {\n",
       "        vertical-align: middle;\n",
       "    }\n",
       "\n",
       "    .dataframe tbody tr th {\n",
       "        vertical-align: top;\n",
       "    }\n",
       "\n",
       "    .dataframe thead th {\n",
       "        text-align: right;\n",
       "    }\n",
       "</style>\n",
       "<table border=\"1\" class=\"dataframe\">\n",
       "  <thead>\n",
       "    <tr style=\"text-align: right;\">\n",
       "      <th></th>\n",
       "      <th>0</th>\n",
       "      <th>1</th>\n",
       "      <th>2</th>\n",
       "      <th>3</th>\n",
       "      <th>4</th>\n",
       "      <th>5</th>\n",
       "    </tr>\n",
       "  </thead>\n",
       "  <tbody>\n",
       "    <tr>\n",
       "      <th>0</th>\n",
       "      <td>1.046726</td>\n",
       "      <td>1.403419</td>\n",
       "      <td>1.421812</td>\n",
       "      <td>1.378217</td>\n",
       "      <td>1.517692</td>\n",
       "      <td>4.566365</td>\n",
       "    </tr>\n",
       "    <tr>\n",
       "      <th>1</th>\n",
       "      <td>1.757010</td>\n",
       "      <td>1.403419</td>\n",
       "      <td>5.405809</td>\n",
       "      <td>2.532024</td>\n",
       "      <td>2.679409</td>\n",
       "      <td>4.004484</td>\n",
       "    </tr>\n",
       "    <tr>\n",
       "      <th>2</th>\n",
       "      <td>2.218232</td>\n",
       "      <td>0.047278</td>\n",
       "      <td>1.421812</td>\n",
       "      <td>0.224410</td>\n",
       "      <td>1.517692</td>\n",
       "      <td>4.004484</td>\n",
       "    </tr>\n",
       "    <tr>\n",
       "      <th>3</th>\n",
       "      <td>1.083624</td>\n",
       "      <td>1.403419</td>\n",
       "      <td>1.421812</td>\n",
       "      <td>0.224410</td>\n",
       "      <td>2.679409</td>\n",
       "      <td>3.985755</td>\n",
       "    </tr>\n",
       "    <tr>\n",
       "      <th>4</th>\n",
       "      <td>1.046726</td>\n",
       "      <td>1.403419</td>\n",
       "      <td>-0.570187</td>\n",
       "      <td>0.224410</td>\n",
       "      <td>1.517692</td>\n",
       "      <td>3.554979</td>\n",
       "    </tr>\n",
       "  </tbody>\n",
       "</table>\n",
       "</div>"
      ],
      "text/plain": [
       "          0         1         2         3         4         5\n",
       "0  1.046726  1.403419  1.421812  1.378217  1.517692  4.566365\n",
       "1  1.757010  1.403419  5.405809  2.532024  2.679409  4.004484\n",
       "2  2.218232  0.047278  1.421812  0.224410  1.517692  4.004484\n",
       "3  1.083624  1.403419  1.421812  0.224410  2.679409  3.985755\n",
       "4  1.046726  1.403419 -0.570187  0.224410  1.517692  3.554979"
      ]
     },
     "execution_count": 3,
     "metadata": {},
     "output_type": "execute_result"
    }
   ],
   "source": [
    "data_scaled = StandardScaler()\n",
    "data_scaled = data_scaled.fit_transform(data.values[:,:])\n",
    "data_scaled = pd.DataFrame(data_scaled)\n",
    "data_scaled.head()"
   ]
  },
  {
   "cell_type": "code",
   "execution_count": 4,
   "id": "0157b655-c90f-49c8-9a3d-60ce60c226e4",
   "metadata": {},
   "outputs": [],
   "source": [
    "y = data_scaled.values[:,5]"
   ]
  },
  {
   "cell_type": "code",
   "execution_count": 5,
   "id": "5cbc4dee-8eb5-4972-8351-ba650dadab92",
   "metadata": {},
   "outputs": [
    {
     "data": {
      "text/plain": [
       "array([[ 1.04672629,  1.40341936,  1.42181174,  1.37821692,  1.51769249],\n",
       "       [ 1.75700953,  1.40341936,  5.40580863,  2.53202371,  2.67940935],\n",
       "       [ 2.21823241,  0.04727831,  1.42181174,  0.22441013,  1.51769249],\n",
       "       ...,\n",
       "       [-0.70592066, -1.30886273, -0.57018671, -0.92939666, -0.80574124],\n",
       "       [-1.03338891,  0.04727831, -0.57018671, -0.92939666, -0.80574124],\n",
       "       [-0.5998394 ,  0.04727831, -0.57018671,  0.22441013, -0.80574124]])"
      ]
     },
     "execution_count": 5,
     "metadata": {},
     "output_type": "execute_result"
    }
   ],
   "source": [
    "x = data_scaled.values[:,0:5]\n",
    "x"
   ]
  },
  {
   "cell_type": "code",
   "execution_count": 6,
   "id": "4106d4aa-5515-4d0f-ba10-3cc4559799bb",
   "metadata": {},
   "outputs": [
    {
     "data": {
      "text/plain": [
       "tensor([[ 1.0467,  1.4034,  1.4218,  1.3782,  1.5177],\n",
       "        [ 1.7570,  1.4034,  5.4058,  2.5320,  2.6794],\n",
       "        [ 2.2182,  0.0473,  1.4218,  0.2244,  1.5177],\n",
       "        ...,\n",
       "        [-0.7059, -1.3089, -0.5702, -0.9294, -0.8057],\n",
       "        [-1.0334,  0.0473, -0.5702, -0.9294, -0.8057],\n",
       "        [-0.5998,  0.0473, -0.5702,  0.2244, -0.8057]], dtype=torch.float64)"
      ]
     },
     "execution_count": 6,
     "metadata": {},
     "output_type": "execute_result"
    }
   ],
   "source": [
    "# Converting data from array to tensors\n",
    "x = torch.tensor(x)\n",
    "y = torch.tensor(y)\n",
    "x"
   ]
  },
  {
   "cell_type": "code",
   "execution_count": 7,
   "id": "4b3624de-0c19-4ea9-a887-0348ec22310b",
   "metadata": {},
   "outputs": [
    {
     "name": "stdout",
     "output_type": "stream",
     "text": [
      "torch.Size([436, 5]) torch.Size([109, 5]) torch.Size([436]) torch.Size([109])\n"
     ]
    }
   ],
   "source": [
    "# Splitting data into 20% testing and 80% training\n",
    "xTrain, xTest, yTrain, yTest = train_test_split(x, y, test_size=0.2, random_state = 0)\n",
    "print(xTrain.shape, xTest.shape, yTrain.shape, yTest.shape)"
   ]
  },
  {
   "cell_type": "code",
   "execution_count": 8,
   "id": "b3293037-9556-43c2-b860-40e16cea594c",
   "metadata": {},
   "outputs": [],
   "source": [
    "# Setting Variables for testing data and validation data\n",
    "# Training Data\n",
    "areaTrain = xTrain[:,0]\n",
    "bedTrain = xTrain[:,1]\n",
    "bathTrain = xTrain[:,2]\n",
    "storiesTrain = xTrain[:,3]\n",
    "parkingTrain = xTrain[:,4]\n",
    "priceTrain = yTrain\n",
    "\n",
    "# Testing/ Validation Data\n",
    "areaTest = xTest[:,0]\n",
    "bedTest = xTest[:,1]\n",
    "bathTest = xTest[:,2]\n",
    "storiesTest = xTest[:,3]\n",
    "parkingTest = xTest[:,4]\n",
    "priceTest = yTest\n"
   ]
  },
  {
   "cell_type": "code",
   "execution_count": 9,
   "id": "3d1bd107-3217-405a-a10a-fead1ca48f1f",
   "metadata": {},
   "outputs": [],
   "source": [
    "def model(area, bed, bath, stories, parking, w1, w2, w3, w4, w5, b):\n",
    "    return w5 * parking + w4 * stories + w3 * bath + w2 * bed + w1 * area + b"
   ]
  },
  {
   "cell_type": "code",
   "execution_count": 10,
   "id": "dad56a51-8a9a-4475-9fc2-a4c4bb176053",
   "metadata": {},
   "outputs": [],
   "source": [
    "w1 = torch.ones(())\n",
    "w2 = torch.ones(())\n",
    "w3 = torch.ones(())\n",
    "w4 = torch.ones(())\n",
    "w5 = torch.ones(())\n",
    "b = torch.zeros(())\n",
    "\n",
    "t_p = model(areaTrain, bedTrain, bathTrain, storiesTrain, parkingTrain, w1, w2, w3, w4, w5, b)"
   ]
  },
  {
   "cell_type": "code",
   "execution_count": 11,
   "id": "275061aa-6602-4ca0-8535-2c9931ea13f1",
   "metadata": {},
   "outputs": [],
   "source": [
    "# creating all functions\n",
    "\n",
    "def dloss_fn(t_p, price):\n",
    "    dsq_diffs = 2 * (t_p - price) / t_p.size(0)\n",
    "    return dsq_diffs\n",
    "\n",
    "def loss_fn(t_p, price):\n",
    "    squared_diffs = (t_p - price)**2\n",
    "    return squared_diffs.mean()\n",
    "\n",
    "def dmodel_dw1(area, w1, b):\n",
    "    return area\n",
    "def dmodel_dw2(bed, w2, b):\n",
    "    return bed\n",
    "def dmodel_dw3(bath, w3, b):\n",
    "    return bath\n",
    "def dmodel_dw4(stories, w4, b):\n",
    "    return stories\n",
    "def dmodel_dw5(parking, w5, b):\n",
    "    return parking\n",
    "\n",
    "def dmodel_db(area, bed, bath, stories, parking, w1, w2, w3, w4, w5, b):\n",
    "    return 1.0\n",
    "\n",
    "def loss_fn(t_p, price):\n",
    "    squared_diffs = (t_p - price)**2\n",
    "    return squared_diffs.mean()\n",
    "\n",
    "def grad_fn(area, bed, bath, stories, parking, price, t_p, w1, w2, w3, w4, w5, b):\n",
    "    dloss_dtp = dloss_fn(t_p, price)\n",
    "    dloss_dw1 = dloss_dtp * dmodel_dw1 (area, w1, b)\n",
    "    dloss_dw2 = dloss_dtp * dmodel_dw2 (bed, w1, b)\n",
    "    dloss_dw3 = dloss_dtp * dmodel_dw3 (bath, w1, b)\n",
    "    dloss_dw4 = dloss_dtp * dmodel_dw4 (stories, w1, b)\n",
    "    dloss_dw5 = dloss_dtp * dmodel_dw5 (parking, w1, b)\n",
    "    dloss_db = dloss_dtp * dmodel_db(areaTrain, bedTrain, bathTrain, storiesTrain, parkingTrain, w1, w2, w3, w4, w5, b)\n",
    "    return torch.stack([dloss_dw5.sum(),dloss_dw4.sum(),dloss_dw3.sum(),dloss_dw2.sum(), dloss_dw1.sum(), dloss_db.sum()])\n",
    "\n",
    "def training_loop(n_epochs, learningRate, params, area, bed, bath, stories, parking, price):\n",
    "    for epoch in range(1, n_epochs + 1):\n",
    "        w1, w2, w3, w4, w5, b = params\n",
    "        t_p = model(area, bed, bath, stories, parking, w1, w2, w3, w4, w5, b)\n",
    "        loss = loss_fn(t_p, priceTrain)\n",
    "        grad = grad_fn(area, bed, bath, stories, parking, price, t_p, w1, w2, w3, w4, w5, b)\n",
    "        params = params - learningRate * grad\n",
    "       \n",
    "        if epoch == 1 or epoch % 500 == 0:\n",
    "            print('Epoch %d, Loss %f' % (epoch, float(loss)))\n",
    "            \n",
    "    return params\n",
    "        "
   ]
  },
  {
   "cell_type": "code",
   "execution_count": 12,
   "id": "31d10791-11ac-4b4c-99a2-b47992f4143d",
   "metadata": {},
   "outputs": [
    {
     "data": {
      "text/plain": [
       "tensor([1., 1., 1., 1., 1., 0.], requires_grad=True)"
      ]
     },
     "execution_count": 12,
     "metadata": {},
     "output_type": "execute_result"
    }
   ],
   "source": [
    "params = torch.tensor([1.0,1.0,1.0,1.0,1.0,0.0], requires_grad=True)\n",
    "params"
   ]
  },
  {
   "cell_type": "code",
   "execution_count": 13,
   "id": "1318e8bd-3d1c-413a-a358-0838d998a355",
   "metadata": {},
   "outputs": [
    {
     "data": {
      "text/plain": [
       "0.1"
      ]
     },
     "execution_count": 13,
     "metadata": {},
     "output_type": "execute_result"
    }
   ],
   "source": [
    "rates = [0.1, 0.01, 0.001, 0.0001]\n",
    "learningRate = rates[0]\n",
    "learningRate"
   ]
  },
  {
   "cell_type": "code",
   "execution_count": 14,
   "id": "033804c9-cbac-4100-b895-9ca006e207e8",
   "metadata": {},
   "outputs": [
    {
     "name": "stdout",
     "output_type": "stream",
     "text": [
      "When Learning Rate is 0.1\n",
      "Epoch 1, Loss 5.965522\n",
      "Epoch 500, Loss 45018092344817940879318730996028517228256162129903616.000000\n",
      "Epoch 1000, Loss 100506248597411322874559684554890948085227543353514154639402746162994599280181761917246701884984454201475072.000000\n",
      "Epoch 1500, Loss 224387777775704704433642966291207354387544653530626625711970612838055919885165562618156370489310693754693869495600859125299247076494447834776658877156299596890112.000000\n",
      "Epoch 2000, Loss 500962631854039129048425619686171847039594498501716803237594430605126835149891846859706948481063764988533075858311843096524385046161485626157973580306683787931755602146721488002275093606125208851071944205902098202624.000000\n",
      "Epoch 2500, Loss 1118436846257222122091440990813684457502925308988415462774665691340778013757082935766362296384292944136522775671877280299932716521200956254787175123544113098170245343304781177418133207049680672145550219656351447298229942048368548301267045099222909258930701889538074083328.000000\n",
      "Epoch 3000, Loss inf\n",
      "Epoch 3500, Loss inf\n",
      "Epoch 4000, Loss inf\n",
      "Epoch 4500, Loss inf\n",
      "Epoch 5000, Loss inf\n",
      "\n",
      "When Learning Rate is 0.01\n",
      "Epoch 1, Loss 5.965522\n",
      "Epoch 500, Loss 15429.993929\n",
      "Epoch 1000, Loss 8169457599.081010\n",
      "Epoch 1500, Loss 4544116725205980.000000\n",
      "Epoch 2000, Loss 2555540409318029393920.000000\n",
      "Epoch 2500, Loss 1440598518220296344276303872.000000\n",
      "Epoch 3000, Loss 812497726786145530359950608433152.000000\n",
      "Epoch 3500, Loss 458297996344184245923247564556133728256.000000\n",
      "Epoch 4000, Loss 258513769954810306486788190018636348584361984.000000\n",
      "Epoch 4500, Loss 145821484133829767796344972890715910412771017097216.000000\n",
      "Epoch 5000, Loss 82254524482028267379183529462016773486862327513446612992.000000\n",
      "\n",
      "When Learning Rate is 0.001\n",
      "Epoch 1, Loss 5.965522\n",
      "Epoch 500, Loss 0.723786\n",
      "Epoch 1000, Loss 0.947568\n",
      "Epoch 1500, Loss 2.219570\n",
      "Epoch 2000, Loss 6.920083\n",
      "Epoch 2500, Loss 24.304790\n",
      "Epoch 3000, Loss 88.795261\n",
      "Epoch 3500, Loss 328.680360\n",
      "Epoch 4000, Loss 1223.135553\n",
      "Epoch 4500, Loss 4565.388574\n",
      "Epoch 5000, Loss 17077.598883\n",
      "\n",
      "When Learning Rate is 0.0001\n",
      "Epoch 1, Loss 5.965522\n",
      "Epoch 500, Loss 4.251940\n",
      "Epoch 1000, Loss 3.078354\n",
      "Epoch 1500, Loss 2.277433\n",
      "Epoch 2000, Loss 1.731910\n",
      "Epoch 2500, Loss 1.361596\n",
      "Epoch 3000, Loss 1.111678\n",
      "Epoch 3500, Loss 0.944710\n",
      "Epoch 4000, Loss 0.835139\n",
      "Epoch 4500, Loss 0.765556\n",
      "Epoch 5000, Loss 0.724139\n",
      "\n"
     ]
    }
   ],
   "source": [
    "for learningRate in rates:\n",
    "    print(\"When Learning Rate is\", learningRate)\n",
    "    params = torch.tensor([1.0, 1.0, 1.0, 1.0, 1.0, 0.0])\n",
    "    learningRate = learningRate\n",
    "    training_loop(\n",
    "        n_epochs = 5000, \n",
    "        learningRate = learningRate, \n",
    "        params = params, \n",
    "        area = areaTrain, \n",
    "        bed = bedTrain, \n",
    "        bath = bathTrain, \n",
    "        stories = storiesTrain, \n",
    "        parking = parkingTrain, \n",
    "        price = priceTrain)\n",
    "    print(\"\")"
   ]
  },
  {
   "cell_type": "markdown",
   "id": "519ad7e0-6e58-408c-924a-bddef6dac1b4",
   "metadata": {
    "tags": []
   },
   "source": [
    "The best rate for the training model is 0.0001"
   ]
  },
  {
   "cell_type": "code",
   "execution_count": 15,
   "id": "3051ab6b-4217-48cd-a1bd-4dad264aa779",
   "metadata": {},
   "outputs": [
    {
     "data": {
      "image/png": "[encoded data removed]",
      "text/plain": [
       "<Figure size 432x288 with 1 Axes>"
      ]
     },
     "metadata": {
      "needs_background": "light"
     },
     "output_type": "display_data"
    }
   ],
   "source": [
    "trainData = model(areaTrain, bedTrain, bathTrain, storiesTrain, parkingTrain,  w1, w2, w3, w4, w5, b)\n",
    "testData = model(areaTest, bedTest, bathTest, storiesTest, parkingTest,  w1, w2, w3, w4, w5, b)\n",
    "plt.xlabel(\"Parameters\")\n",
    "plt.ylabel(\"Pricing\")\n",
    "plt.plot(trainData.detach().numpy(), 'o', label = \"Predicted Price\")\n",
    "plt.plot(y, label = \"Estimated Price\")\n",
    "plt.legend()\n",
    "plt.grid()\n",
    "plt.show()"
   ]
  },
  {
   "cell_type": "code",
   "execution_count": null,
   "id": "db050c4e-64ec-4a2b-94ae-afaa71ffcc3d",
   "metadata": {},
   "outputs": [],
   "source": []
  }
 ],
 "metadata": {
  "kernelspec": {
   "display_name": "Python 3 (ipykernel)",
   "language": "python",
   "name": "python3"
  },
  "language_info": {
   "codemirror_mode": {
    "name": "ipython",
    "version": 3
   },
   "file_extension": ".py",
   "mimetype": "text/x-python",
   "name": "python",
   "nbconvert_exporter": "python",
   "pygments_lexer": "ipython3",
   "version": "3.9.12"
  }
 },
 "nbformat": 4,
 "nbformat_minor": 5
}
